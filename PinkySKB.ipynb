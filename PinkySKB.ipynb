{
 "cells": [
  {
   "cell_type": "markdown",
   "metadata": {},
   "source": [
    "# \n",
    "This jupyter notebook used for analyzing the single kluverboard "
   ]
  },
  {
   "cell_type": "code",
   "execution_count": null,
   "metadata": {},
   "outputs": [],
   "source": [
    "import deeplabcut\n",
    "import os\n",
    "import time\n",
    "import csv\n",
    "from tkinter import filedialog\n",
    "import glob"
   ]
  },
  {
   "cell_type": "markdown",
   "metadata": {},
   "source": [
    "### Set up various tags\n",
    "\n",
    "+ project exist, train data set exist\n",
    "+ frames extracted, frames labeled\n",
    "+ need training, evaluation, and analyze functions or not\n",
    "+ need create label function or note"
   ]
  },
  {
   "cell_type": "code",
   "execution_count": null,
   "metadata": {},
   "outputs": [],
   "source": [
    "# tag for create a new project (True) or not (False)\n",
    "tag_createprj = False\n",
    "\n",
    "# tags for extract frames (True) or not (False)\n",
    "tag_extractframes = False\n",
    "\n",
    "# tag for label frames (True) or not (False)\n",
    "tag_labelframes = True\n",
    "\n",
    "# tag for needing train (True) or not (False)\n",
    "tag_train = True \n",
    "\n",
    "# tag for evaluating trained model(True) or not (False)\n",
    "tag_evaluation = True\n",
    "\n",
    "\n",
    "# tag for whether analyze new videos (True) or not (False)\n",
    "tag_analyze = False\n",
    "\n",
    "# tag for creating labels for analyzed videos (True) or not (False)\n",
    "tag_createlabel = True"
   ]
  },
  {
   "cell_type": "markdown",
   "metadata": {},
   "source": [
    "### Extract the absoluate path of config file config.yaml\n",
    "\n",
    "Create new project if tag_prjexist = False, otherwise input the project directory"
   ]
  },
  {
   "cell_type": "code",
   "execution_count": null,
   "metadata": {},
   "outputs": [],
   "source": [
    "task = 'PinkySKB' \n",
    "experimenter = 'YLL'\n",
    "\n",
    "# working directory where the project directory will be created\n",
    "working_dir = 'dlcProjects'\n",
    "if tag_createprj:\n",
    "    \"\"\" \n",
    "    create a new project \n",
    "    \"\"\" \n",
    "    \n",
    "    \n",
    "    # initial directory of dialog for video input\n",
    "    root2_dir = '/run/user/1000/gvfs/ftp:host=nmrc_dserver1.local/root2'\n",
    "    diaginitdir = os.path.join(root2_dir, 'Animals2', 'Pinky', 'Recording', 'Raw', 'rawMA')\n",
    "    # dialog for input the videos to be used\n",
    "    videos = filedialog.askopenfilenames(initialdir = diaginitdir, title = 'Please select videos to be used',\n",
    "                                       filetypes = ((\"video files\",\"*.avi\"),(\"all files\",\"*.*\")))\n",
    "    \n",
    "    # deeolapcut create_new_project func\n",
    "    path_config_file = deeplabcut.create_new_project(task, experimenter, videos, \n",
    "                                                     working_directory = working_dir, copy_videos = True)\n",
    "    \n",
    "    # extract the project path and the config file name\n",
    "    path_prj, config_file_name = os.path.split(path_config_file)\n",
    "    \n",
    "else:\n",
    "    \"\"\" \n",
    "    project already exist \n",
    "    \"\"\"  \n",
    "    # dialog for input the exist project folder\n",
    "    path_prj = filedialog.askdirectory(initialdir = os.getcwd(), title = 'Please select the exist project folder')\n",
    "    \n",
    "    # dlc config file config.yaml\n",
    "    path_config_file = os.path.join(path_prj, 'config.yaml')\n",
    "    \n",
    "    if not os.path.exists(path_config_file):\n",
    "        print('No config.yaml file in ' + path_prj)"
   ]
  },
  {
   "cell_type": "markdown",
   "metadata": {},
   "source": [
    "### Edit the config.yaml to config the project\n",
    "+ bodyparts: Hand, Startpad, Mouth, Food\n"
   ]
  },
  {
   "cell_type": "markdown",
   "metadata": {},
   "source": [
    "### Extract and label the frames\n",
    "+ Random frames are extracted from all the videos in the project configuration file in order to create a training dataset.\n",
    "\n",
    "+ 'automatic' and 'manual' extract frames are used once to extract the frames now. "
   ]
  },
  {
   "cell_type": "code",
   "execution_count": null,
   "metadata": {},
   "outputs": [],
   "source": [
    "\"\"\" extract the frames\"\"\"\n",
    "if tag_extractframes:\n",
    "    deeplabcut.extract_frames(path_config_file, 'automatic', 'uniform',crop=False)\n",
    "    \n",
    "    # maunal extract frames\n",
    "    deeplabcut.extract_frames(path_config_file, 'manual', 'uniform',crop=False)\n",
    "    \n",
    "\n",
    "\"\"\" label the frames\"\"\"\n",
    "if tag_labelframes:\n",
    "    deeplabcut.label_frames(path_config_file) # label frames"
   ]
  },
  {
   "cell_type": "markdown",
   "metadata": {},
   "source": [
    "# train the dlc model\n",
    "\n"
   ]
  },
  {
   "cell_type": "code",
   "execution_count": null,
   "metadata": {},
   "outputs": [],
   "source": [
    "if tag_train:\n",
    "    \n",
    "    # created training dataset if training dateset doesn't exist\n",
    "    if not glob.glob(os.path.join(path_prj, 'training-datasets', 'iteration-*')):\n",
    "        deeplabcut.check_labels(path_config_file)\n",
    "        deeplabcut.create_training_dataset(path_config_file, num_shuffles=1)\n",
    "    \n",
    "    # train the dlc network\n",
    "    train_start = time.time()\n",
    "    deeplabcut.train_network(path_config_file, shuffle=1)\n",
    "    train_end = time.time()\n",
    "    train_time = train_end - train_start\n",
    "    \n",
    "    print('training time is %f' %train_time)"
   ]
  },
  {
   "cell_type": "markdown",
   "metadata": {},
   "source": [
    "# Evaluation models"
   ]
  },
  {
   "cell_type": "code",
   "execution_count": null,
   "metadata": {},
   "outputs": [],
   "source": [
    "if tag_evaluation:\n",
    "    deeplabcut.evaluate_network(path_config_file, plotting = True)"
   ]
  },
  {
   "cell_type": "markdown",
   "metadata": {},
   "source": [
    "# Analyze new videos "
   ]
  },
  {
   "cell_type": "code",
   "execution_count": null,
   "metadata": {},
   "outputs": [],
   "source": [
    "# analyze new video\n",
    "if tag_analyze:\n",
    "    \n",
    "    # dialog for input the videos to be analyzed\n",
    "    videos_tobeanalyzed = filedialog.askopenfilenames(title = 'Please select videos to be analyzed',\n",
    "                                       filetypes = ((\"video files\",\"*.avi\"),(\"all files\",\"*.*\")))\n",
    "    \n",
    "    deeplabcut.analyze_videos(path_config_file, videos_tobeanalyzed,save_as_csv = True, videotype = '.avi')"
   ]
  },
  {
   "cell_type": "markdown",
   "metadata": {},
   "source": [
    "# Create labelled video"
   ]
  },
  {
   "cell_type": "code",
   "execution_count": null,
   "metadata": {},
   "outputs": [],
   "source": [
    "# create labeled video\n",
    "if tag_createlabel:\n",
    "    # dialog for input the videos to be labelled\n",
    "    video_tobelabelled = filedialog.askopenfilenames(title = 'Please select videos to be labelled',\n",
    "                                       filetypes = ((\"video files\",\"*.avi\"),(\"all files\",\"*.*\")))\n",
    "    deeplabcut.create_labeled_video(path_config_file,video_tobelabelled)"
   ]
  }
 ],
 "metadata": {
  "kernelspec": {
   "display_name": "Python 3",
   "language": "python",
   "name": "python3"
  },
  "language_info": {
   "codemirror_mode": {
    "name": "ipython",
    "version": 3
   },
   "file_extension": ".py",
   "mimetype": "text/x-python",
   "name": "python",
   "nbconvert_exporter": "python",
   "pygments_lexer": "ipython3",
   "version": "3.6.8"
  }
 },
 "nbformat": 4,
 "nbformat_minor": 2
}
